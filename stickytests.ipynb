{
 "cells": [
  {
   "cell_type": "code",
   "execution_count": 1,
   "id": "8081670c-a74f-41a5-933e-96ee5157d766",
   "metadata": {},
   "outputs": [],
   "source": [
    "import warnings\n",
    "warnings.filterwarnings('ignore')"
   ]
  },
  {
   "cell_type": "code",
   "execution_count": 2,
   "id": "816be2bd-7482-4099-adb9-91904763156c",
   "metadata": {},
   "outputs": [
    {
     "name": "stderr",
     "output_type": "stream",
     "text": [
      "/Users/cheukhanglau/miniconda3/envs/flowermd/lib/python3.11/site-packages/mdtraj/formats/__init__.py:13: DeprecationWarning: 'xdrlib' is deprecated and slated for removal in Python 3.13\n",
      "  from mdtraj.formats.trr import TRRTrajectoryFile\n"
     ]
    }
   ],
   "source": [
    "from flowermd.base import Pack, Simulation\n",
    "from flowermd.library import PPS, BeadSpring\n",
    "from flowermd.utils import get_target_box_mass_density\n",
    "import unyt as u"
   ]
  },
  {
   "cell_type": "code",
   "execution_count": 3,
   "id": "89abf772-76a2-4fdd-b255-4e49b46c59b3",
   "metadata": {},
   "outputs": [],
   "source": [
    "pps_mol = PPS(num_mols=20, lengths=60)"
   ]
  },
  {
   "cell_type": "code",
   "execution_count": 4,
   "id": "ea028dd5-79a9-4b1a-8e80-1d6f475d31bf",
   "metadata": {},
   "outputs": [],
   "source": [
    "pps_mol.coarse_grain(beads={\"A\": \"c1ccc(S)cc1\"})"
   ]
  },
  {
   "cell_type": "code",
   "execution_count": 5,
   "id": "f6c9d936-b5a9-4e54-92eb-21d2b184ab48",
   "metadata": {},
   "outputs": [],
   "source": [
    "    ff = BeadSpring(\n",
    "    r_cut=2.5,\n",
    "    beads={\n",
    "        \"A\": dict(epsilon=1, sigma=10),\n",
    "    },\n",
    "    bonds={\n",
    "        \"A-A\": dict(r0=0.64, k=500),\n",
    "    },\n",
    "    angles={\"A-A-A\": dict(t0=2.8, k=50)},\n",
    ")"
   ]
  },
  {
   "cell_type": "code",
   "execution_count": 6,
   "id": "29d5716d-26c3-4de1-9cf6-10889ae6aca6",
   "metadata": {},
   "outputs": [
    {
     "data": {
      "text/plain": [
       "[<hoomd.md.pair.pair.LJ at 0x14c573a50>,\n",
       " <hoomd.md.bond.Harmonic at 0x14c97d9d0>,\n",
       " <hoomd.md.angle.Harmonic at 0x14c939c10>]"
      ]
     },
     "execution_count": 6,
     "metadata": {},
     "output_type": "execute_result"
    }
   ],
   "source": [
    "ff.hoomd_forces"
   ]
  },
  {
   "cell_type": "code",
   "execution_count": 7,
   "id": "82a96f79-e189-42f8-bbc9-078de790b3c8",
   "metadata": {},
   "outputs": [],
   "source": [
    "cg_system = Pack(molecules=pps_mol, density=1, edge=.2, overlap=.2,packing_expand_factor=5)"
   ]
  },
  {
   "cell_type": "code",
   "execution_count": 8,
   "id": "9336617f-ba15-4bdf-955b-a78b771369c0",
   "metadata": {},
   "outputs": [
    {
     "name": "stdout",
     "output_type": "stream",
     "text": [
      "Initializing simulation state from a gsd.hoomd.Frame.\n"
     ]
    }
   ],
   "source": [
    "gsd_path='e1s10.gsd'\n",
    "cg_sim = Simulation(\n",
    "    initial_state=cg_system.hoomd_snapshot,\n",
    "    forcefield=ff.hoomd_forces,\n",
    "    gsd_write_freq=int(2e5/10),\n",
    "    gsd_file_name=gsd_path,\n",
    "    reference_values={\"length\": 1*u.nm, \"mass\": 1*u.Unit(\"amu\"), \"energy\":1*u.Unit(\"kJ/mol\")}\n",
    ")"
   ]
  },
  {
   "cell_type": "code",
   "execution_count": 9,
   "id": "f7c47988-bbcd-4118-b4ba-60c5c2a7b5e4",
   "metadata": {},
   "outputs": [
    {
     "name": "stdout",
     "output_type": "stream",
     "text": [
      "[7.55471261e-07 7.55471261e-07 7.55471261e-07] cm\n"
     ]
    }
   ],
   "source": [
    "target_box = get_target_box_mass_density(density=0.5*u.Unit(\"g/cm**3\"), mass=cg_system.mass.to(\"g\"))\n",
    "print(target_box)"
   ]
  },
  {
   "cell_type": "code",
   "execution_count": 10,
   "id": "962fb600-1c1c-4c4a-a604-240a30212823",
   "metadata": {},
   "outputs": [
    {
     "ename": "RuntimeError",
     "evalue": "Particle with unique tag 1199 is no longer in the simulation box.\n\nCartesian coordinates: \nx: -3.22875e+08 y: -2.54805e+07 z: 2.50723e+08\nFractional coordinates: \nf.x: -1.07694e+07 f.y: -849891 f.z: 8.36275e+06\nLocal box lo: (-14.9904, -14.9904, -14.9904)\n          hi: (14.9904, 14.9904, 14.9904)\n",
     "output_type": "error",
     "traceback": [
      "\u001b[0;31m---------------------------------------------------------------------------\u001b[0m",
      "\u001b[0;31mRuntimeError\u001b[0m                              Traceback (most recent call last)",
      "Cell \u001b[0;32mIn[10], line 1\u001b[0m\n\u001b[0;32m----> 1\u001b[0m \u001b[43mcg_sim\u001b[49m\u001b[38;5;241;43m.\u001b[39;49m\u001b[43mrun_NVT\u001b[49m\u001b[43m(\u001b[49m\u001b[43mn_steps\u001b[49m\u001b[38;5;241;43m=\u001b[39;49m\u001b[38;5;241;43m2e5\u001b[39;49m\u001b[43m,\u001b[49m\u001b[43m \u001b[49m\u001b[43mkT\u001b[49m\u001b[38;5;241;43m=\u001b[39;49m\u001b[38;5;241;43m3.0\u001b[39;49m\u001b[43m,\u001b[49m\u001b[43m \u001b[49m\u001b[43mtau_kt\u001b[49m\u001b[38;5;241;43m=\u001b[39;49m\u001b[38;5;241;43m1.0\u001b[39;49m\u001b[43m)\u001b[49m\n",
      "File \u001b[0;32m~/repos/flowerMD/flowermd/base/simulation.py:911\u001b[0m, in \u001b[0;36mSimulation.run_NVT\u001b[0;34m(self, n_steps, kT, tau_kt, thermalize_particles, write_at_start)\u001b[0m\n\u001b[1;32m    906\u001b[0m std_out_logger_printer \u001b[38;5;241m=\u001b[39m hoomd\u001b[38;5;241m.\u001b[39mupdate\u001b[38;5;241m.\u001b[39mCustomUpdater(\n\u001b[1;32m    907\u001b[0m     trigger\u001b[38;5;241m=\u001b[39mhoomd\u001b[38;5;241m.\u001b[39mtrigger\u001b[38;5;241m.\u001b[39mPeriodic(\u001b[38;5;28mself\u001b[39m\u001b[38;5;241m.\u001b[39m_std_out_freq),\n\u001b[1;32m    908\u001b[0m     action\u001b[38;5;241m=\u001b[39mstd_out_logger,\n\u001b[1;32m    909\u001b[0m )\n\u001b[1;32m    910\u001b[0m \u001b[38;5;28mself\u001b[39m\u001b[38;5;241m.\u001b[39moperations\u001b[38;5;241m.\u001b[39mupdaters\u001b[38;5;241m.\u001b[39mappend(std_out_logger_printer)\n\u001b[0;32m--> 911\u001b[0m \u001b[38;5;28;43mself\u001b[39;49m\u001b[38;5;241;43m.\u001b[39;49m\u001b[43mrun\u001b[49m\u001b[43m(\u001b[49m\u001b[43msteps\u001b[49m\u001b[38;5;241;43m=\u001b[39;49m\u001b[43mn_steps\u001b[49m\u001b[43m,\u001b[49m\u001b[43m \u001b[49m\u001b[43mwrite_at_start\u001b[49m\u001b[38;5;241;43m=\u001b[39;49m\u001b[43mwrite_at_start\u001b[49m\u001b[43m)\u001b[49m\n\u001b[1;32m    912\u001b[0m \u001b[38;5;28mself\u001b[39m\u001b[38;5;241m.\u001b[39moperations\u001b[38;5;241m.\u001b[39mupdaters\u001b[38;5;241m.\u001b[39mremove(std_out_logger_printer)\n",
      "File \u001b[0;32m~/miniconda3/envs/flowermd/lib/python3.11/site-packages/hoomd/simulation.py:562\u001b[0m, in \u001b[0;36mSimulation.run\u001b[0;34m(self, steps, write_at_start)\u001b[0m\n\u001b[1;32m    558\u001b[0m \u001b[38;5;28;01mif\u001b[39;00m steps_int \u001b[38;5;241m<\u001b[39m \u001b[38;5;241m0\u001b[39m \u001b[38;5;129;01mor\u001b[39;00m steps_int \u001b[38;5;241m>\u001b[39m TIMESTEP_MAX \u001b[38;5;241m-\u001b[39m \u001b[38;5;241m1\u001b[39m:\n\u001b[1;32m    559\u001b[0m     \u001b[38;5;28;01mraise\u001b[39;00m \u001b[38;5;167;01mValueError\u001b[39;00m(\u001b[38;5;124mf\u001b[39m\u001b[38;5;124m\"\u001b[39m\u001b[38;5;124msteps must be in the range [0, \u001b[39m\u001b[38;5;124m\"\u001b[39m\n\u001b[1;32m    560\u001b[0m                      \u001b[38;5;124mf\u001b[39m\u001b[38;5;124m\"\u001b[39m\u001b[38;5;132;01m{\u001b[39;00mTIMESTEP_MAX\u001b[38;5;241m-\u001b[39m\u001b[38;5;241m1\u001b[39m\u001b[38;5;132;01m}\u001b[39;00m\u001b[38;5;124m]\u001b[39m\u001b[38;5;124m\"\u001b[39m)\n\u001b[0;32m--> 562\u001b[0m \u001b[38;5;28;43mself\u001b[39;49m\u001b[38;5;241;43m.\u001b[39;49m\u001b[43m_cpp_sys\u001b[49m\u001b[38;5;241;43m.\u001b[39;49m\u001b[43mrun\u001b[49m\u001b[43m(\u001b[49m\u001b[43msteps_int\u001b[49m\u001b[43m,\u001b[49m\u001b[43m \u001b[49m\u001b[43mwrite_at_start\u001b[49m\u001b[43m)\u001b[49m\n",
      "\u001b[0;31mRuntimeError\u001b[0m: Particle with unique tag 1199 is no longer in the simulation box.\n\nCartesian coordinates: \nx: -3.22875e+08 y: -2.54805e+07 z: 2.50723e+08\nFractional coordinates: \nf.x: -1.07694e+07 f.y: -849891 f.z: 8.36275e+06\nLocal box lo: (-14.9904, -14.9904, -14.9904)\n          hi: (14.9904, 14.9904, 14.9904)\n"
     ]
    }
   ],
   "source": [
    "cg_sim.run_NVT(n_steps=2e5, kT=3.0, tau_kt=1.0)"
   ]
  },
  {
   "cell_type": "code",
   "execution_count": null,
   "id": "787c2177-f413-47b3-98c3-33a0e48d7472",
   "metadata": {},
   "outputs": [],
   "source": [
    "cg_sim.box_lengths"
   ]
  },
  {
   "cell_type": "code",
   "execution_count": null,
   "id": "c9271a17-11a2-41cf-b16d-c01b560a4ce3",
   "metadata": {},
   "outputs": [],
   "source": [
    "target_box"
   ]
  },
  {
   "cell_type": "code",
   "execution_count": null,
   "id": "a38d0c7a-f0c6-445c-aa63-95763f78e70b",
   "metadata": {},
   "outputs": [],
   "source": [
    "cg_sim.flush_writers()"
   ]
  }
 ],
 "metadata": {
  "kernelspec": {
   "display_name": "Python 3 (ipykernel)",
   "language": "python",
   "name": "python3"
  },
  "language_info": {
   "codemirror_mode": {
    "name": "ipython",
    "version": 3
   },
   "file_extension": ".py",
   "mimetype": "text/x-python",
   "name": "python",
   "nbconvert_exporter": "python",
   "pygments_lexer": "ipython3",
   "version": "3.11.9"
  }
 },
 "nbformat": 4,
 "nbformat_minor": 5
}
