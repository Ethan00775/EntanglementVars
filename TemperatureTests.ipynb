{
 "cells": [
  {
   "cell_type": "code",
   "execution_count": 8,
   "id": "8081670c-a74f-41a5-933e-96ee5157d766",
   "metadata": {},
   "outputs": [],
   "source": [
    "import warnings\n",
    "warnings.filterwarnings('ignore')"
   ]
  },
  {
   "cell_type": "code",
   "execution_count": 9,
   "id": "816be2bd-7482-4099-adb9-91904763156c",
   "metadata": {},
   "outputs": [],
   "source": [
    "from flowermd.base import Pack, Simulation\n",
    "from flowermd.library import PPS, BeadSpring\n",
    "from flowermd.utils import get_target_box_mass_density\n",
    "import unyt as u"
   ]
  },
  {
   "cell_type": "code",
   "execution_count": 10,
   "id": "89abf772-76a2-4fdd-b255-4e49b46c59b3",
   "metadata": {},
   "outputs": [],
   "source": [
    "pps_mol = PPS(num_mols=20, lengths=60)"
   ]
  },
  {
   "cell_type": "code",
   "execution_count": 11,
   "id": "ea028dd5-79a9-4b1a-8e80-1d6f475d31bf",
   "metadata": {},
   "outputs": [],
   "source": [
    "pps_mol.coarse_grain(beads={\"A\": \"c1ccc(S)cc1\"})"
   ]
  },
  {
   "cell_type": "code",
   "execution_count": 12,
   "id": "f6c9d936-b5a9-4e54-92eb-21d2b184ab48",
   "metadata": {},
   "outputs": [],
   "source": [
    "ff = BeadSpring(\n",
    "    r_cut=2.5,\n",
    "    beads={\n",
    "        \"A\": dict(epsilon=1, sigma=0.2),\n",
    "    },\n",
    "    bonds={\n",
    "        \"A-A\": dict(r0=0.64, k=500),\n",
    "    },\n",
    "    angles={\"A-A-A\": dict(t0=2.8, k=50)},\n",
    ")"
   ]
  },
  {
   "cell_type": "code",
   "execution_count": 13,
   "id": "29d5716d-26c3-4de1-9cf6-10889ae6aca6",
   "metadata": {},
   "outputs": [
    {
     "data": {
      "text/plain": [
       "[<hoomd.md.pair.pair.LJ at 0x1694e8290>,\n",
       " <hoomd.md.bond.Harmonic at 0x1697b2f50>,\n",
       " <hoomd.md.angle.Harmonic at 0x1697b2b50>]"
      ]
     },
     "execution_count": 13,
     "metadata": {},
     "output_type": "execute_result"
    }
   ],
   "source": [
    "ff.hoomd_forces"
   ]
  },
  {
   "cell_type": "code",
   "execution_count": 15,
   "id": "82a96f79-e189-42f8-bbc9-078de790b3c8",
   "metadata": {},
   "outputs": [],
   "source": [
    "cg_system = Pack(molecules=pps_mol, density=1, edge=.2, overlap=.2,packing_expand_factor=5)"
   ]
  },
  {
   "cell_type": "code",
   "execution_count": 16,
   "id": "9336617f-ba15-4bdf-955b-a78b771369c0",
   "metadata": {},
   "outputs": [
    {
     "name": "stdout",
     "output_type": "stream",
     "text": [
      "Initializing simulation state from a gsd.hoomd.Frame.\n"
     ]
    }
   ],
   "source": [
    "gsd_path='temp6.gsd'\n",
    "cg_sim = Simulation(\n",
    "    initial_state=cg_system.hoomd_snapshot,\n",
    "    forcefield=ff.hoomd_forces,\n",
    "    gsd_write_freq=int(2e5/10),\n",
    "    gsd_file_name=gsd_path,\n",
    "    reference_values={\"length\": 1*u.nm, \"mass\": 1*u.Unit(\"amu\"), \"energy\":1*u.Unit(\"kJ/mol\")}\n",
    ")"
   ]
  },
  {
   "cell_type": "code",
   "execution_count": 17,
   "id": "f7c47988-bbcd-4118-b4ba-60c5c2a7b5e4",
   "metadata": {},
   "outputs": [
    {
     "name": "stdout",
     "output_type": "stream",
     "text": [
      "[7.55471261e-07 7.55471261e-07 7.55471261e-07] cm\n"
     ]
    }
   ],
   "source": [
    "target_box = get_target_box_mass_density(density=0.5*u.Unit(\"g/cm**3\"), mass=cg_system.mass.to(\"g\"))\n",
    "print(target_box)"
   ]
  },
  {
   "cell_type": "code",
   "execution_count": null,
   "id": "c62c2865-bc2d-4df1-a235-e685af707fc4",
   "metadata": {},
   "outputs": [],
   "source": []
  },
  {
   "cell_type": "code",
   "execution_count": null,
   "id": "b3543e80-4a1c-40f5-b194-959a6ba19839",
   "metadata": {},
   "outputs": [],
   "source": []
  },
  {
   "cell_type": "code",
   "execution_count": null,
   "id": "6fa61905-449c-4407-815c-d472657a1c1f",
   "metadata": {},
   "outputs": [],
   "source": [
    "cg_sim.run_update_volume(n_steps=3e5, kT=6.0, tau_kt=1.0, final_box_lengths=target_box, period=100)"
   ]
  },
  {
   "cell_type": "code",
   "execution_count": null,
   "id": "7c9e27d9-31c0-45cb-b452-4c452479bc69",
   "metadata": {},
   "outputs": [],
   "source": [
    "cg_sim.flush_writers()"
   ]
  },
  {
   "cell_type": "code",
   "execution_count": null,
   "id": "d5ad5f9e-0bf2-4ecb-a805-fbec73ba90a9",
   "metadata": {},
   "outputs": [],
   "source": []
  },
  {
   "cell_type": "code",
   "execution_count": null,
   "id": "71ce9f64-877a-4490-b0c6-8b00ddb37da9",
   "metadata": {},
   "outputs": [],
   "source": []
  },
  {
   "cell_type": "code",
   "execution_count": null,
   "id": "fd1ab1e3-9093-48e3-8240-16a0333cc249",
   "metadata": {},
   "outputs": [],
   "source": []
  },
  {
   "cell_type": "code",
   "execution_count": null,
   "id": "88225714-329f-4bb3-94f4-ca2948b14c01",
   "metadata": {},
   "outputs": [],
   "source": []
  },
  {
   "cell_type": "code",
   "execution_count": null,
   "id": "16920717-309d-4110-b8c4-62f277e0ddc8",
   "metadata": {},
   "outputs": [],
   "source": []
  },
  {
   "cell_type": "code",
   "execution_count": null,
   "id": "962fb600-1c1c-4c4a-a604-240a30212823",
   "metadata": {},
   "outputs": [],
   "source": [
    "cg_sim.run_NVT(n_steps=2e5, kT=3.0, tau_kt=1.0)"
   ]
  },
  {
   "cell_type": "code",
   "execution_count": null,
   "id": "787c2177-f413-47b3-98c3-33a0e48d7472",
   "metadata": {},
   "outputs": [],
   "source": [
    "cg_sim.box_lengths"
   ]
  },
  {
   "cell_type": "code",
   "execution_count": null,
   "id": "c9271a17-11a2-41cf-b16d-c01b560a4ce3",
   "metadata": {},
   "outputs": [],
   "source": [
    "target_box"
   ]
  },
  {
   "cell_type": "code",
   "execution_count": null,
   "id": "40151a88-b831-4d44-a2fd-008b44910160",
   "metadata": {},
   "outputs": [],
   "source": []
  }
 ],
 "metadata": {
  "kernelspec": {
   "display_name": "Python 3 (ipykernel)",
   "language": "python",
   "name": "python3"
  },
  "language_info": {
   "codemirror_mode": {
    "name": "ipython",
    "version": 3
   },
   "file_extension": ".py",
   "mimetype": "text/x-python",
   "name": "python",
   "nbconvert_exporter": "python",
   "pygments_lexer": "ipython3",
   "version": "3.11.9"
  }
 },
 "nbformat": 4,
 "nbformat_minor": 5
}
