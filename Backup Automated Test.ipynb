{
 "cells": [
  {
   "cell_type": "code",
   "execution_count": 1,
   "id": "6192767f-9329-4ade-ab5b-3b51d8c82c67",
   "metadata": {},
   "outputs": [],
   "source": [
    "#Change values as needed. Trials is number of trials, initialVal is initial value of variable studied, and stepVal is how much you\n",
    "#would like to increase it by every trial. varStudied is the name of the variable you are changing.\n",
    "trials=3;\n",
    "initialVal=1;\n",
    "stepVal=3;\n",
    "varStudied=\"temp\"\n",
    "#Change value of variable that you would like to change equal to x in the location of the simulation code. Ex: Changing temp and\n",
    "#kt=_ becomes kt=x\n",
    "\n",
    "#Run the first for-loop to get a strinking box\n",
    "#Run the second for-loop to get a constant sized box"
   ]
  },
  {
   "cell_type": "code",
   "execution_count": 2,
   "id": "3add21b1-cccf-4432-8060-5f3840d79408",
   "metadata": {},
   "outputs": [],
   "source": [
    "import warnings\n",
    "warnings.filterwarnings('ignore')"
   ]
  },
  {
   "cell_type": "code",
   "execution_count": 3,
   "id": "36174e01-57b4-433e-ad6e-37b0c03876cf",
   "metadata": {},
   "outputs": [
    {
     "name": "stderr",
     "output_type": "stream",
     "text": [
      "/Users/ethan/miniforge3/envs/flowermd/lib/python3.11/site-packages/mdtraj/formats/__init__.py:13: DeprecationWarning: 'xdrlib' is deprecated and slated for removal in Python 3.13\n",
      "  from mdtraj.formats.trr import TRRTrajectoryFile\n"
     ]
    }
   ],
   "source": [
    "from flowermd.base import Pack, Simulation\n",
    "from flowermd.library import PPS, BeadSpring\n",
    "from flowermd.utils import get_target_box_mass_density\n",
    "import unyt as u"
   ]
  },
  {
   "cell_type": "code",
   "execution_count": 4,
   "id": "034819af-ff67-43a8-ac43-fdee2fae411c",
   "metadata": {},
   "outputs": [
    {
     "name": "stdout",
     "output_type": "stream",
     "text": [
      "Initializing simulation state from a gsd.hoomd.Frame.\n",
      "Step 10500 of 400000; TPS: 19072.67; ETA: 0.3 minutes\n",
      "Step 21000 of 400000; TPS: 25051.5; ETA: 0.3 minutes\n",
      "Step 31500 of 400000; TPS: 27942.3; ETA: 0.2 minutes\n",
      "Step 42000 of 400000; TPS: 29491.86; ETA: 0.2 minutes\n",
      "Step 52500 of 400000; TPS: 30188.32; ETA: 0.2 minutes\n",
      "Step 63000 of 400000; TPS: 30729.34; ETA: 0.2 minutes\n",
      "Step 73500 of 400000; TPS: 31318.15; ETA: 0.2 minutes\n",
      "Step 84000 of 400000; TPS: 31482.63; ETA: 0.2 minutes\n",
      "Step 94500 of 400000; TPS: 31662.84; ETA: 0.2 minutes\n",
      "Step 105000 of 400000; TPS: 31858.66; ETA: 0.2 minutes\n",
      "Step 115500 of 400000; TPS: 32023.44; ETA: 0.1 minutes\n",
      "Step 126000 of 400000; TPS: 31996.51; ETA: 0.1 minutes\n",
      "Step 136500 of 400000; TPS: 31909.05; ETA: 0.1 minutes\n"
     ]
    },
    {
     "ename": "KeyboardInterrupt",
     "evalue": "",
     "output_type": "error",
     "traceback": [
      "\u001b[0;31m---------------------------------------------------------------------------\u001b[0m",
      "\u001b[0;31mKeyboardInterrupt\u001b[0m                         Traceback (most recent call last)",
      "Cell \u001b[0;32mIn[4], line 26\u001b[0m\n\u001b[1;32m     18\u001b[0m     cg_sim \u001b[38;5;241m=\u001b[39m Simulation(\n\u001b[1;32m     19\u001b[0m     initial_state\u001b[38;5;241m=\u001b[39mcg_system\u001b[38;5;241m.\u001b[39mhoomd_snapshot,\n\u001b[1;32m     20\u001b[0m     forcefield\u001b[38;5;241m=\u001b[39mff\u001b[38;5;241m.\u001b[39mhoomd_forces,\n\u001b[0;32m   (...)\u001b[0m\n\u001b[1;32m     23\u001b[0m     reference_values\u001b[38;5;241m=\u001b[39m{\u001b[38;5;124m\"\u001b[39m\u001b[38;5;124mlength\u001b[39m\u001b[38;5;124m\"\u001b[39m: \u001b[38;5;241m1\u001b[39m\u001b[38;5;241m*\u001b[39mu\u001b[38;5;241m.\u001b[39mnm, \u001b[38;5;124m\"\u001b[39m\u001b[38;5;124mmass\u001b[39m\u001b[38;5;124m\"\u001b[39m: \u001b[38;5;241m1\u001b[39m\u001b[38;5;241m*\u001b[39mu\u001b[38;5;241m.\u001b[39mUnit(\u001b[38;5;124m\"\u001b[39m\u001b[38;5;124mamu\u001b[39m\u001b[38;5;124m\"\u001b[39m), \u001b[38;5;124m\"\u001b[39m\u001b[38;5;124menergy\u001b[39m\u001b[38;5;124m\"\u001b[39m:\u001b[38;5;241m1\u001b[39m\u001b[38;5;241m*\u001b[39mu\u001b[38;5;241m.\u001b[39mUnit(\u001b[38;5;124m\"\u001b[39m\u001b[38;5;124mkJ/mol\u001b[39m\u001b[38;5;124m\"\u001b[39m)}\n\u001b[1;32m     24\u001b[0m )\n\u001b[1;32m     25\u001b[0m     target_box \u001b[38;5;241m=\u001b[39m get_target_box_mass_density(density\u001b[38;5;241m=\u001b[39m\u001b[38;5;241m0.5\u001b[39m\u001b[38;5;241m*\u001b[39mu\u001b[38;5;241m.\u001b[39mUnit(\u001b[38;5;124m\"\u001b[39m\u001b[38;5;124mg/cm**3\u001b[39m\u001b[38;5;124m\"\u001b[39m), mass\u001b[38;5;241m=\u001b[39mcg_system\u001b[38;5;241m.\u001b[39mmass\u001b[38;5;241m.\u001b[39mto(\u001b[38;5;124m\"\u001b[39m\u001b[38;5;124mg\u001b[39m\u001b[38;5;124m\"\u001b[39m))\n\u001b[0;32m---> 26\u001b[0m     \u001b[43mcg_sim\u001b[49m\u001b[38;5;241;43m.\u001b[39;49m\u001b[43mrun_update_volume\u001b[49m\u001b[43m(\u001b[49m\u001b[43mn_steps\u001b[49m\u001b[38;5;241;43m=\u001b[39;49m\u001b[38;5;241;43m4e5\u001b[39;49m\u001b[43m,\u001b[49m\u001b[43m \u001b[49m\u001b[43mkT\u001b[49m\u001b[38;5;241;43m=\u001b[39;49m\u001b[38;5;241;43m3\u001b[39;49m\u001b[43m,\u001b[49m\u001b[43m \u001b[49m\u001b[43mtau_kt\u001b[49m\u001b[38;5;241;43m=\u001b[39;49m\u001b[38;5;241;43m1.0\u001b[39;49m\u001b[43m,\u001b[49m\u001b[43m \u001b[49m\u001b[43mfinal_box_lengths\u001b[49m\u001b[38;5;241;43m=\u001b[39;49m\u001b[43mtarget_box\u001b[49m\u001b[43m,\u001b[49m\u001b[43m \u001b[49m\u001b[43mperiod\u001b[49m\u001b[38;5;241;43m=\u001b[39;49m\u001b[38;5;241;43m100\u001b[39;49m\u001b[43m)\u001b[49m\n\u001b[1;32m     27\u001b[0m     cg_sim\u001b[38;5;241m.\u001b[39mflush_writers()\n\u001b[1;32m     28\u001b[0m     x\u001b[38;5;241m=\u001b[39mx\u001b[38;5;241m+\u001b[39mstepVal;\n",
      "File \u001b[0;32m~/Desktop/repos/flowerMD/flowermd/base/simulation.py:739\u001b[0m, in \u001b[0;36mSimulation.run_update_volume\u001b[0;34m(self, final_box_lengths, n_steps, period, kT, tau_kt, thermalize_particles, write_at_start)\u001b[0m\n\u001b[1;32m    734\u001b[0m std_out_logger_printer \u001b[38;5;241m=\u001b[39m hoomd\u001b[38;5;241m.\u001b[39mupdate\u001b[38;5;241m.\u001b[39mCustomUpdater(\n\u001b[1;32m    735\u001b[0m     trigger\u001b[38;5;241m=\u001b[39mhoomd\u001b[38;5;241m.\u001b[39mtrigger\u001b[38;5;241m.\u001b[39mPeriodic(\u001b[38;5;28mself\u001b[39m\u001b[38;5;241m.\u001b[39m_std_out_freq),\n\u001b[1;32m    736\u001b[0m     action\u001b[38;5;241m=\u001b[39mstd_out_logger,\n\u001b[1;32m    737\u001b[0m )\n\u001b[1;32m    738\u001b[0m \u001b[38;5;28mself\u001b[39m\u001b[38;5;241m.\u001b[39moperations\u001b[38;5;241m.\u001b[39mupdaters\u001b[38;5;241m.\u001b[39mappend(std_out_logger_printer)\n\u001b[0;32m--> 739\u001b[0m \u001b[38;5;28;43mself\u001b[39;49m\u001b[38;5;241;43m.\u001b[39;49m\u001b[43mrun\u001b[49m\u001b[43m(\u001b[49m\u001b[43msteps\u001b[49m\u001b[38;5;241;43m=\u001b[39;49m\u001b[43mn_steps\u001b[49m\u001b[43m \u001b[49m\u001b[38;5;241;43m+\u001b[39;49m\u001b[43m \u001b[49m\u001b[38;5;241;43m1\u001b[39;49m\u001b[43m,\u001b[49m\u001b[43m \u001b[49m\u001b[43mwrite_at_start\u001b[49m\u001b[38;5;241;43m=\u001b[39;49m\u001b[43mwrite_at_start\u001b[49m\u001b[43m)\u001b[49m\n\u001b[1;32m    740\u001b[0m \u001b[38;5;28mself\u001b[39m\u001b[38;5;241m.\u001b[39moperations\u001b[38;5;241m.\u001b[39mupdaters\u001b[38;5;241m.\u001b[39mremove(std_out_logger_printer)\n\u001b[1;32m    741\u001b[0m \u001b[38;5;28mself\u001b[39m\u001b[38;5;241m.\u001b[39moperations\u001b[38;5;241m.\u001b[39mupdaters\u001b[38;5;241m.\u001b[39mremove(box_resizer)\n",
      "File \u001b[0;32m~/miniforge3/envs/flowermd/lib/python3.11/site-packages/hoomd/simulation.py:562\u001b[0m, in \u001b[0;36mSimulation.run\u001b[0;34m(self, steps, write_at_start)\u001b[0m\n\u001b[1;32m    558\u001b[0m \u001b[38;5;28;01mif\u001b[39;00m steps_int \u001b[38;5;241m<\u001b[39m \u001b[38;5;241m0\u001b[39m \u001b[38;5;129;01mor\u001b[39;00m steps_int \u001b[38;5;241m>\u001b[39m TIMESTEP_MAX \u001b[38;5;241m-\u001b[39m \u001b[38;5;241m1\u001b[39m:\n\u001b[1;32m    559\u001b[0m     \u001b[38;5;28;01mraise\u001b[39;00m \u001b[38;5;167;01mValueError\u001b[39;00m(\u001b[38;5;124mf\u001b[39m\u001b[38;5;124m\"\u001b[39m\u001b[38;5;124msteps must be in the range [0, \u001b[39m\u001b[38;5;124m\"\u001b[39m\n\u001b[1;32m    560\u001b[0m                      \u001b[38;5;124mf\u001b[39m\u001b[38;5;124m\"\u001b[39m\u001b[38;5;132;01m{\u001b[39;00mTIMESTEP_MAX\u001b[38;5;241m-\u001b[39m\u001b[38;5;241m1\u001b[39m\u001b[38;5;132;01m}\u001b[39;00m\u001b[38;5;124m]\u001b[39m\u001b[38;5;124m\"\u001b[39m)\n\u001b[0;32m--> 562\u001b[0m \u001b[38;5;28;43mself\u001b[39;49m\u001b[38;5;241;43m.\u001b[39;49m\u001b[43m_cpp_sys\u001b[49m\u001b[38;5;241;43m.\u001b[39;49m\u001b[43mrun\u001b[49m\u001b[43m(\u001b[49m\u001b[43msteps_int\u001b[49m\u001b[43m,\u001b[49m\u001b[43m \u001b[49m\u001b[43mwrite_at_start\u001b[49m\u001b[43m)\u001b[49m\n",
      "\u001b[0;31mKeyboardInterrupt\u001b[0m: "
     ]
    }
   ],
   "source": [
    "x=initialVal;\n",
    "for i in range(trials):\n",
    "    pps_mol = PPS(num_mols=5, lengths=20)\n",
    "    pps_mol.coarse_grain(beads={\"A\": \"c1ccc(S)cc1\"})\n",
    "    ff = BeadSpring(\n",
    "    r_cut=2.5,\n",
    "    beads={\n",
    "        \"A\": dict(epsilon=1, sigma=0.2),\n",
    "    },\n",
    "    bonds={\n",
    "        \"A-A\": dict(r0=0.64, k=500),\n",
    "    },\n",
    "    angles={\"A-A-A\": dict(t0=2.8, k=50)},\n",
    ")\n",
    "    ff.hoomd_forces\n",
    "    cg_system = Pack(molecules=pps_mol, density=1, edge=.2, overlap=.2,packing_expand_factor=5)\n",
    "    gsd_path=varStudied+str(x)+'.gsd'\n",
    "    cg_sim = Simulation(\n",
    "    initial_state=cg_system.hoomd_snapshot,\n",
    "    forcefield=ff.hoomd_forces,\n",
    "    gsd_write_freq=int(2e5/10),\n",
    "    gsd_file_name=gsd_path,\n",
    "    reference_values={\"length\": 1*u.nm, \"mass\": 1*u.Unit(\"amu\"), \"energy\":1*u.Unit(\"kJ/mol\")}\n",
    ")\n",
    "    target_box = get_target_box_mass_density(density=0.5*u.Unit(\"g/cm**3\"), mass=cg_system.mass.to(\"g\"))\n",
    "    cg_sim.run_update_volume(n_steps=4e5, kT=3, tau_kt=1.0, final_box_lengths=target_box, period=100)\n",
    "    cg_sim.flush_writers()\n",
    "    x=x+stepVal;"
   ]
  },
  {
   "cell_type": "code",
   "execution_count": null,
   "id": "215a6a6c-962e-4d01-ade7-c52cb26a7288",
   "metadata": {},
   "outputs": [],
   "source": [
    "x=initialVal;\n",
    "for i in range(trials):\n",
    "    pps_mol = PPS(num_mols=5, lengths=20)\n",
    "    pps_mol.coarse_grain(beads={\"A\": \"c1ccc(S)cc1\"})\n",
    "    ff = BeadSpring(\n",
    "    r_cut=2.5,\n",
    "    beads={\n",
    "        \"A\": dict(epsilon=1, sigma=0.2),\n",
    "    },\n",
    "    bonds={\n",
    "        \"A-A\": dict(r0=0.64, k=500),\n",
    "    },\n",
    "    angles={\"A-A-A\": dict(t0=2.8, k=50)},\n",
    ")\n",
    "    ff.hoomd_forces\n",
    "    cg_system = Pack(molecules=pps_mol, density=1, edge=.2, overlap=.2,packing_expand_factor=5)\n",
    "    gsd_path=varStudied+str(x)+'.gsd'\n",
    "    cg_sim = Simulation(\n",
    "    initial_state=cg_system.hoomd_snapshot,\n",
    "    forcefield=ff.hoomd_forces,\n",
    "    gsd_write_freq=int(2e5/10),\n",
    "    gsd_file_name=gsd_path,\n",
    "    reference_values={\"length\": 1*u.nm, \"mass\": 1*u.Unit(\"amu\"), \"energy\":1*u.Unit(\"kJ/mol\")}\n",
    ")\n",
    "    cg_sim.run_NVT(n_steps=4e5, kT=x, tau_kt=1.0)\n",
    "    cg_sim.flush_writers()\n",
    "    x=x+stepVal;"
   ]
  }
 ],
 "metadata": {
  "kernelspec": {
   "display_name": "Python 3 (ipykernel)",
   "language": "python",
   "name": "python3"
  },
  "language_info": {
   "codemirror_mode": {
    "name": "ipython",
    "version": 3
   },
   "file_extension": ".py",
   "mimetype": "text/x-python",
   "name": "python",
   "nbconvert_exporter": "python",
   "pygments_lexer": "ipython3",
   "version": "3.11.9"
  }
 },
 "nbformat": 4,
 "nbformat_minor": 5
}
