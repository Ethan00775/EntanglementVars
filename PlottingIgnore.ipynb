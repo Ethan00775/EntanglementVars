{
 "cells": [
  {
   "cell_type": "code",
   "execution_count": 1,
   "id": "813788de-a1f1-44ad-842f-8c057c288cc8",
   "metadata": {},
   "outputs": [],
   "source": [
    "import gsd.hoomd\n",
    "import hoomd\n",
    "import matplotlib\n",
    "\n",
    "%matplotlib inline\n",
    "matplotlib.style.use('ggplot')"
   ]
  },
  {
   "cell_type": "code",
   "execution_count": 2,
   "id": "0092c8ed-c25b-4688-b837-da67d444fc25",
   "metadata": {},
   "outputs": [
    {
     "ename": "NameError",
     "evalue": "name 'sim' is not defined",
     "output_type": "error",
     "traceback": [
      "\u001b[0;31m---------------------------------------------------------------------------\u001b[0m",
      "\u001b[0;31mNameError\u001b[0m                                 Traceback (most recent call last)",
      "Cell \u001b[0;32mIn[2], line 1\u001b[0m\n\u001b[0;32m----> 1\u001b[0m \u001b[43msim\u001b[49m\u001b[38;5;241m.\u001b[39mloggables\n",
      "\u001b[0;31mNameError\u001b[0m: name 'sim' is not defined"
     ]
    }
   ],
   "source": [
    "sim.loggables"
   ]
  },
  {
   "cell_type": "code",
   "execution_count": 3,
   "id": "88c15f08-9a4e-46e9-a748-1b5aadb80391",
   "metadata": {},
   "outputs": [
    {
     "ename": "NameError",
     "evalue": "name 'sim' is not defined",
     "output_type": "error",
     "traceback": [
      "\u001b[0;31m---------------------------------------------------------------------------\u001b[0m",
      "\u001b[0;31mNameError\u001b[0m                                 Traceback (most recent call last)",
      "Cell \u001b[0;32mIn[3], line 3\u001b[0m\n\u001b[1;32m      1\u001b[0m thermodynamic_properties \u001b[38;5;241m=\u001b[39m hoomd\u001b[38;5;241m.\u001b[39mmd\u001b[38;5;241m.\u001b[39mcompute\u001b[38;5;241m.\u001b[39mThermodynamicQuantities(\n\u001b[1;32m      2\u001b[0m     \u001b[38;5;28mfilter\u001b[39m\u001b[38;5;241m=\u001b[39mhoomd\u001b[38;5;241m.\u001b[39mfilter\u001b[38;5;241m.\u001b[39mAll())\n\u001b[0;32m----> 3\u001b[0m \u001b[43msim\u001b[49m\u001b[38;5;241m.\u001b[39moperations\u001b[38;5;241m.\u001b[39mcomputes\u001b[38;5;241m.\u001b[39mappend(thermodynamic_properties)\n\u001b[1;32m      4\u001b[0m thermodynamic_properties\u001b[38;5;241m.\u001b[39mloggables\n",
      "\u001b[0;31mNameError\u001b[0m: name 'sim' is not defined"
     ]
    }
   ],
   "source": [
    "thermodynamic_properties = hoomd.md.compute.ThermodynamicQuantities(\n",
    "    filter=hoomd.filter.All())\n",
    "sim.operations.computes.append(thermodynamic_properties)\n",
    "thermodynamic_properties.loggables"
   ]
  },
  {
   "cell_type": "code",
   "execution_count": 4,
   "id": "68c7bf3f-4f32-4ec2-b08a-5bedc2876947",
   "metadata": {},
   "outputs": [],
   "source": [
    "logger = hoomd.logging.Logger()"
   ]
  },
  {
   "cell_type": "code",
   "execution_count": 5,
   "id": "65280f24-b325-4242-a448-c3f47a77e1a3",
   "metadata": {},
   "outputs": [],
   "source": [
    "logger.add(thermodynamic_properties)"
   ]
  },
  {
   "cell_type": "code",
   "execution_count": 6,
   "id": "eb133492-3610-4154-ab6b-72919530c117",
   "metadata": {},
   "outputs": [
    {
     "ename": "NameError",
     "evalue": "name 'sim' is not defined",
     "output_type": "error",
     "traceback": [
      "\u001b[0;31m---------------------------------------------------------------------------\u001b[0m",
      "\u001b[0;31mNameError\u001b[0m                                 Traceback (most recent call last)",
      "Cell \u001b[0;32mIn[6], line 1\u001b[0m\n\u001b[0;32m----> 1\u001b[0m logger\u001b[38;5;241m.\u001b[39madd(\u001b[43msim\u001b[49m, quantities\u001b[38;5;241m=\u001b[39m[\u001b[38;5;124m'\u001b[39m\u001b[38;5;124mtimestep\u001b[39m\u001b[38;5;124m'\u001b[39m, \u001b[38;5;124m'\u001b[39m\u001b[38;5;124mwalltime\u001b[39m\u001b[38;5;124m'\u001b[39m])\n",
      "\u001b[0;31mNameError\u001b[0m: name 'sim' is not defined"
     ]
    }
   ],
   "source": [
    "logger.add(sim, quantities=['timestep', 'walltime'])"
   ]
  },
  {
   "cell_type": "code",
   "execution_count": 7,
   "id": "17e6b48f-e732-4149-83b1-838dd2a5b1c9",
   "metadata": {},
   "outputs": [
    {
     "ename": "NameError",
     "evalue": "name 'sim' is not defined",
     "output_type": "error",
     "traceback": [
      "\u001b[0;31m---------------------------------------------------------------------------\u001b[0m",
      "\u001b[0;31mNameError\u001b[0m                                 Traceback (most recent call last)",
      "Cell \u001b[0;32mIn[7], line 5\u001b[0m\n\u001b[1;32m      1\u001b[0m gsd_writer \u001b[38;5;241m=\u001b[39m hoomd\u001b[38;5;241m.\u001b[39mwrite\u001b[38;5;241m.\u001b[39mGSD(filename\u001b[38;5;241m=\u001b[39m\u001b[38;5;124m'\u001b[39m\u001b[38;5;124mlog.gsd\u001b[39m\u001b[38;5;124m'\u001b[39m,\n\u001b[1;32m      2\u001b[0m                              trigger\u001b[38;5;241m=\u001b[39mhoomd\u001b[38;5;241m.\u001b[39mtrigger\u001b[38;5;241m.\u001b[39mPeriodic(\u001b[38;5;241m1000\u001b[39m),\n\u001b[1;32m      3\u001b[0m                              mode\u001b[38;5;241m=\u001b[39m\u001b[38;5;124m'\u001b[39m\u001b[38;5;124mxb\u001b[39m\u001b[38;5;124m'\u001b[39m,\n\u001b[1;32m      4\u001b[0m                              \u001b[38;5;28mfilter\u001b[39m\u001b[38;5;241m=\u001b[39mhoomd\u001b[38;5;241m.\u001b[39mfilter\u001b[38;5;241m.\u001b[39mNull())\n\u001b[0;32m----> 5\u001b[0m \u001b[43msim\u001b[49m\u001b[38;5;241m.\u001b[39moperations\u001b[38;5;241m.\u001b[39mwriters\u001b[38;5;241m.\u001b[39mappend(gsd_writer)\n",
      "\u001b[0;31mNameError\u001b[0m: name 'sim' is not defined"
     ]
    }
   ],
   "source": [
    "gsd_writer = hoomd.write.GSD(filename='log.gsd',\n",
    "                             trigger=hoomd.trigger.Periodic(1000),\n",
    "                             mode='xb',\n",
    "                             filter=hoomd.filter.Null())\n",
    "sim.operations.writers.append(gsd_writer)"
   ]
  },
  {
   "cell_type": "code",
   "execution_count": 8,
   "id": "b88aea38-27d8-435f-8a25-df114355e834",
   "metadata": {},
   "outputs": [],
   "source": [
    "gsd_writer.log = logger"
   ]
  },
  {
   "cell_type": "code",
   "execution_count": 9,
   "id": "5336891f-deef-4fca-a3f9-be68151289bd",
   "metadata": {},
   "outputs": [
    {
     "ename": "NameError",
     "evalue": "name 'sim' is not defined",
     "output_type": "error",
     "traceback": [
      "\u001b[0;31m---------------------------------------------------------------------------\u001b[0m",
      "\u001b[0;31mNameError\u001b[0m                                 Traceback (most recent call last)",
      "Cell \u001b[0;32mIn[9], line 1\u001b[0m\n\u001b[0;32m----> 1\u001b[0m \u001b[43msim\u001b[49m\u001b[38;5;241m.\u001b[39mrun(\u001b[38;5;241m100000\u001b[39m)\n",
      "\u001b[0;31mNameError\u001b[0m: name 'sim' is not defined"
     ]
    }
   ],
   "source": [
    "sim.run(100000)"
   ]
  },
  {
   "cell_type": "code",
   "execution_count": 10,
   "id": "03582d5c-486d-4be0-b755-14a337b4e5ea",
   "metadata": {},
   "outputs": [
    {
     "ename": "ValueError",
     "evalue": "Invalid mode: rb",
     "output_type": "error",
     "traceback": [
      "\u001b[0;31m---------------------------------------------------------------------------\u001b[0m",
      "\u001b[0;31mValueError\u001b[0m                                Traceback (most recent call last)",
      "Cell \u001b[0;32mIn[10], line 1\u001b[0m\n\u001b[0;32m----> 1\u001b[0m traj \u001b[38;5;241m=\u001b[39m \u001b[43mgsd\u001b[49m\u001b[38;5;241;43m.\u001b[39;49m\u001b[43mhoomd\u001b[49m\u001b[38;5;241;43m.\u001b[39;49m\u001b[43mopen\u001b[49m\u001b[43m(\u001b[49m\u001b[38;5;124;43m'\u001b[39;49m\u001b[38;5;124;43mlog.gsd\u001b[39;49m\u001b[38;5;124;43m'\u001b[39;49m\u001b[43m,\u001b[49m\u001b[43m \u001b[49m\u001b[38;5;124;43m'\u001b[39;49m\u001b[38;5;124;43mrb\u001b[39;49m\u001b[38;5;124;43m'\u001b[39;49m\u001b[43m)\u001b[49m\n",
      "File \u001b[0;32m~/miniforge3/envs/flowermd/lib/python3.11/site-packages/gsd/hoomd.py:1121\u001b[0m, in \u001b[0;36mopen\u001b[0;34m(name, mode)\u001b[0m\n\u001b[1;32m   1118\u001b[0m     msg \u001b[38;5;241m=\u001b[39m \u001b[38;5;124m'\u001b[39m\u001b[38;5;124mgsd module is not available\u001b[39m\u001b[38;5;124m'\u001b[39m\n\u001b[1;32m   1119\u001b[0m     \u001b[38;5;28;01mraise\u001b[39;00m \u001b[38;5;167;01mRuntimeError\u001b[39;00m(msg)\n\u001b[0;32m-> 1121\u001b[0m gsdfileobj \u001b[38;5;241m=\u001b[39m \u001b[43mgsd\u001b[49m\u001b[38;5;241;43m.\u001b[39;49m\u001b[43mfl\u001b[49m\u001b[38;5;241;43m.\u001b[39;49m\u001b[43mopen\u001b[49m\u001b[43m(\u001b[49m\n\u001b[1;32m   1122\u001b[0m \u001b[43m    \u001b[49m\u001b[43mname\u001b[49m\u001b[38;5;241;43m=\u001b[39;49m\u001b[38;5;28;43mstr\u001b[39;49m\u001b[43m(\u001b[49m\u001b[43mname\u001b[49m\u001b[43m)\u001b[49m\u001b[43m,\u001b[49m\n\u001b[1;32m   1123\u001b[0m \u001b[43m    \u001b[49m\u001b[43mmode\u001b[49m\u001b[38;5;241;43m=\u001b[39;49m\u001b[43mmode\u001b[49m\u001b[43m,\u001b[49m\n\u001b[1;32m   1124\u001b[0m \u001b[43m    \u001b[49m\u001b[43mapplication\u001b[49m\u001b[38;5;241;43m=\u001b[39;49m\u001b[38;5;124;43m'\u001b[39;49m\u001b[38;5;124;43mgsd.hoomd \u001b[39;49m\u001b[38;5;124;43m'\u001b[39;49m\u001b[43m \u001b[49m\u001b[38;5;241;43m+\u001b[39;49m\u001b[43m \u001b[49m\u001b[43mgsd\u001b[49m\u001b[38;5;241;43m.\u001b[39;49m\u001b[43mversion\u001b[49m\u001b[38;5;241;43m.\u001b[39;49m\u001b[43mversion\u001b[49m\u001b[43m,\u001b[49m\n\u001b[1;32m   1125\u001b[0m \u001b[43m    \u001b[49m\u001b[43mschema\u001b[49m\u001b[38;5;241;43m=\u001b[39;49m\u001b[38;5;124;43m'\u001b[39;49m\u001b[38;5;124;43mhoomd\u001b[39;49m\u001b[38;5;124;43m'\u001b[39;49m\u001b[43m,\u001b[49m\n\u001b[1;32m   1126\u001b[0m \u001b[43m    \u001b[49m\u001b[43mschema_version\u001b[49m\u001b[38;5;241;43m=\u001b[39;49m\u001b[43m[\u001b[49m\u001b[38;5;241;43m1\u001b[39;49m\u001b[43m,\u001b[49m\u001b[43m \u001b[49m\u001b[38;5;241;43m4\u001b[39;49m\u001b[43m]\u001b[49m\u001b[43m,\u001b[49m\n\u001b[1;32m   1127\u001b[0m \u001b[43m\u001b[49m\u001b[43m)\u001b[49m\n\u001b[1;32m   1129\u001b[0m \u001b[38;5;28;01mreturn\u001b[39;00m HOOMDTrajectory(gsdfileobj)\n",
      "File \u001b[0;32m~/miniforge3/envs/flowermd/lib/python3.11/site-packages/gsd/fl.pyx:226\u001b[0m, in \u001b[0;36mgsd.fl.open\u001b[0;34m()\u001b[0m\n",
      "File \u001b[0;32m~/miniforge3/envs/flowermd/lib/python3.11/site-packages/gsd/fl.pyx:314\u001b[0m, in \u001b[0;36mgsd.fl.GSDFile.__init__\u001b[0;34m()\u001b[0m\n",
      "\u001b[0;31mValueError\u001b[0m: Invalid mode: rb"
     ]
    }
   ],
   "source": [
    "traj = gsd.hoomd.open('log.gsd', 'rb')"
   ]
  },
  {
   "cell_type": "code",
   "execution_count": 11,
   "id": "4644fa5a-68a0-4df8-be33-7e84b6834636",
   "metadata": {},
   "outputs": [
    {
     "ename": "NameError",
     "evalue": "name 'traj' is not defined",
     "output_type": "error",
     "traceback": [
      "\u001b[0;31m---------------------------------------------------------------------------\u001b[0m",
      "\u001b[0;31mNameError\u001b[0m                                 Traceback (most recent call last)",
      "Cell \u001b[0;32mIn[11], line 1\u001b[0m\n\u001b[0;32m----> 1\u001b[0m \u001b[43mtraj\u001b[49m[\u001b[38;5;241m0\u001b[39m]\u001b[38;5;241m.\u001b[39mlog\n",
      "\u001b[0;31mNameError\u001b[0m: name 'traj' is not defined"
     ]
    }
   ],
   "source": [
    "traj[0].log"
   ]
  },
  {
   "cell_type": "code",
   "execution_count": 12,
   "id": "dc2ed58d-dd5e-4c13-88bf-8b670038eab9",
   "metadata": {},
   "outputs": [
    {
     "ename": "NameError",
     "evalue": "name 'traj' is not defined",
     "output_type": "error",
     "traceback": [
      "\u001b[0;31m---------------------------------------------------------------------------\u001b[0m",
      "\u001b[0;31mNameError\u001b[0m                                 Traceback (most recent call last)",
      "Cell \u001b[0;32mIn[12], line 5\u001b[0m\n\u001b[1;32m      2\u001b[0m walltime \u001b[38;5;241m=\u001b[39m []\n\u001b[1;32m      3\u001b[0m potential_energy \u001b[38;5;241m=\u001b[39m []\n\u001b[0;32m----> 5\u001b[0m \u001b[38;5;28;01mfor\u001b[39;00m frame \u001b[38;5;129;01min\u001b[39;00m \u001b[43mtraj\u001b[49m:\n\u001b[1;32m      6\u001b[0m     timestep\u001b[38;5;241m.\u001b[39mappend(frame\u001b[38;5;241m.\u001b[39mconfiguration\u001b[38;5;241m.\u001b[39mstep)\n\u001b[1;32m      7\u001b[0m     walltime\u001b[38;5;241m.\u001b[39mappend(frame\u001b[38;5;241m.\u001b[39mlog[\u001b[38;5;124m'\u001b[39m\u001b[38;5;124mSimulation/walltime\u001b[39m\u001b[38;5;124m'\u001b[39m][\u001b[38;5;241m0\u001b[39m])\n",
      "\u001b[0;31mNameError\u001b[0m: name 'traj' is not defined"
     ]
    }
   ],
   "source": [
    "timestep = []\n",
    "walltime = []\n",
    "potential_energy = []\n",
    "\n",
    "for frame in traj:\n",
    "    timestep.append(frame.configuration.step)\n",
    "    walltime.append(frame.log['Simulation/walltime'][0])\n",
    "    potential_energy.append(\n",
    "        frame.log['md/compute/ThermodynamicQuantities/potential_energy'][0])"
   ]
  },
  {
   "cell_type": "code",
   "execution_count": 13,
   "id": "efc1b0a5-f854-4981-800e-fcdb3d99b98c",
   "metadata": {},
   "outputs": [
    {
     "data": {
      "image/png": "[encoded data removed]",
      "text/plain": [
       "<Figure size 1000x618 with 1 Axes>"
      ]
     },
     "execution_count": 13,
     "metadata": {},
     "output_type": "execute_result"
    }
   ],
   "source": [
    "fig = matplotlib.figure.Figure(figsize=(10, 6.18))\n",
    "ax = fig.add_subplot()\n",
    "ax.plot(timestep, potential_energy)\n",
    "ax.set_xlabel('timestep')\n",
    "ax.set_ylabel('potential energy')\n",
    "fig"
   ]
  }
 ],
 "metadata": {
  "kernelspec": {
   "display_name": "Python 3 (ipykernel)",
   "language": "python",
   "name": "python3"
  },
  "language_info": {
   "codemirror_mode": {
    "name": "ipython",
    "version": 3
   },
   "file_extension": ".py",
   "mimetype": "text/x-python",
   "name": "python",
   "nbconvert_exporter": "python",
   "pygments_lexer": "ipython3",
   "version": "3.11.9"
  }
 },
 "nbformat": 4,
 "nbformat_minor": 5
}
